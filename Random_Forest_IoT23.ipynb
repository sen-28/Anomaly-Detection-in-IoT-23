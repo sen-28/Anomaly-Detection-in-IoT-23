{
  "cells": [
    {
      "cell_type": "code",
      "execution_count": null,
      "metadata": {
        "id": "afraid-balloon"
      },
      "outputs": [],
      "source": [
        "import pandas as pd\n",
        "from matplotlib import pyplot as plt\n",
        "from sklearn.svm import SVC\n",
        "from sklearn.model_selection import GridSearchCV\n",
        "from sklearn.metrics import classification_report, confusion_matrix\n",
        "from sklearn.model_selection import train_test_split\n",
        "import time\n",
        "import numpy as np\n",
        "import seaborn as sns\n",
        "import matplotlib.pyplot as plt\n",
        "from sklearn.ensemble import RandomForestClassifier\n",
        "import warnings"
      ],
      "id": "afraid-balloon"
    },
    {
      "cell_type": "code",
      "execution_count": null,
      "metadata": {
        "colab": {
          "base_uri": "https://localhost:8080/"
        },
        "id": "u1c0Oe9E62_y",
        "outputId": "dbafd46e-b24b-406f-8c90-b4b5b419fa0c"
      },
      "outputs": [
        {
          "output_type": "stream",
          "name": "stdout",
          "text": [
            "Mounted at /content/gdrive\n"
          ]
        }
      ],
      "source": [
        "from google.colab import drive\n",
        "drive.mount('/content/gdrive')"
      ],
      "id": "u1c0Oe9E62_y"
    },
    {
      "cell_type": "code",
      "execution_count": null,
      "metadata": {
        "id": "enabling-awareness"
      },
      "outputs": [],
      "source": [
        "filepath = \"/content/gdrive/MyDrive/iot_23_data/iot23_combined (2).csv\""
      ],
      "id": "enabling-awareness"
    },
    {
      "cell_type": "code",
      "execution_count": null,
      "metadata": {
        "id": "split-employee"
      },
      "outputs": [],
      "source": [
        "df = pd.read_csv(filepath)"
      ],
      "id": "split-employee"
    },
    {
      "cell_type": "code",
      "execution_count": null,
      "metadata": {
        "id": "breeding-reality"
      },
      "outputs": [],
      "source": [
        "del df['Unnamed: 0']"
      ],
      "id": "breeding-reality"
    },
    {
      "cell_type": "code",
      "execution_count": null,
      "metadata": {
        "colab": {
          "base_uri": "https://localhost:8080/",
          "height": 443
        },
        "id": "powerful-socket",
        "outputId": "bdcd411c-6a0d-4807-f227-9b282f40edf8"
      },
      "outputs": [
        {
          "output_type": "execute_result",
          "data": {
            "text/html": [
              "<div>\n",
              "<style scoped>\n",
              "    .dataframe tbody tr th:only-of-type {\n",
              "        vertical-align: middle;\n",
              "    }\n",
              "\n",
              "    .dataframe tbody tr th {\n",
              "        vertical-align: top;\n",
              "    }\n",
              "\n",
              "    .dataframe thead th {\n",
              "        text-align: right;\n",
              "    }\n",
              "</style>\n",
              "<table border=\"1\" class=\"dataframe\">\n",
              "  <thead>\n",
              "    <tr style=\"text-align: right;\">\n",
              "      <th></th>\n",
              "      <th>duration</th>\n",
              "      <th>orig_bytes</th>\n",
              "      <th>resp_bytes</th>\n",
              "      <th>missed_bytes</th>\n",
              "      <th>orig_pkts</th>\n",
              "      <th>orig_ip_bytes</th>\n",
              "      <th>resp_pkts</th>\n",
              "      <th>resp_ip_bytes</th>\n",
              "      <th>label</th>\n",
              "      <th>proto_icmp</th>\n",
              "      <th>proto_tcp</th>\n",
              "      <th>proto_udp</th>\n",
              "      <th>conn_state_OTH</th>\n",
              "      <th>conn_state_REJ</th>\n",
              "      <th>conn_state_RSTO</th>\n",
              "      <th>conn_state_RSTOS0</th>\n",
              "      <th>conn_state_RSTR</th>\n",
              "      <th>conn_state_RSTRH</th>\n",
              "      <th>conn_state_S0</th>\n",
              "      <th>conn_state_S1</th>\n",
              "      <th>conn_state_S2</th>\n",
              "      <th>conn_state_S3</th>\n",
              "      <th>conn_state_SF</th>\n",
              "      <th>conn_state_SH</th>\n",
              "      <th>conn_state_SHR</th>\n",
              "    </tr>\n",
              "  </thead>\n",
              "  <tbody>\n",
              "    <tr>\n",
              "      <th>0</th>\n",
              "      <td>2.998796</td>\n",
              "      <td>0</td>\n",
              "      <td>0</td>\n",
              "      <td>0.0</td>\n",
              "      <td>3.0</td>\n",
              "      <td>180.0</td>\n",
              "      <td>0.0</td>\n",
              "      <td>0.0</td>\n",
              "      <td>8</td>\n",
              "      <td>0</td>\n",
              "      <td>1</td>\n",
              "      <td>0</td>\n",
              "      <td>0</td>\n",
              "      <td>0</td>\n",
              "      <td>0</td>\n",
              "      <td>0</td>\n",
              "      <td>0</td>\n",
              "      <td>0</td>\n",
              "      <td>1</td>\n",
              "      <td>0</td>\n",
              "      <td>0</td>\n",
              "      <td>0</td>\n",
              "      <td>0</td>\n",
              "      <td>0</td>\n",
              "      <td>0</td>\n",
              "    </tr>\n",
              "    <tr>\n",
              "      <th>1</th>\n",
              "      <td>0.000000</td>\n",
              "      <td>0</td>\n",
              "      <td>0</td>\n",
              "      <td>0.0</td>\n",
              "      <td>1.0</td>\n",
              "      <td>60.0</td>\n",
              "      <td>0.0</td>\n",
              "      <td>0.0</td>\n",
              "      <td>8</td>\n",
              "      <td>0</td>\n",
              "      <td>1</td>\n",
              "      <td>0</td>\n",
              "      <td>0</td>\n",
              "      <td>0</td>\n",
              "      <td>0</td>\n",
              "      <td>0</td>\n",
              "      <td>0</td>\n",
              "      <td>0</td>\n",
              "      <td>1</td>\n",
              "      <td>0</td>\n",
              "      <td>0</td>\n",
              "      <td>0</td>\n",
              "      <td>0</td>\n",
              "      <td>0</td>\n",
              "      <td>0</td>\n",
              "    </tr>\n",
              "    <tr>\n",
              "      <th>2</th>\n",
              "      <td>0.000000</td>\n",
              "      <td>0</td>\n",
              "      <td>0</td>\n",
              "      <td>0.0</td>\n",
              "      <td>1.0</td>\n",
              "      <td>60.0</td>\n",
              "      <td>0.0</td>\n",
              "      <td>0.0</td>\n",
              "      <td>8</td>\n",
              "      <td>0</td>\n",
              "      <td>1</td>\n",
              "      <td>0</td>\n",
              "      <td>0</td>\n",
              "      <td>0</td>\n",
              "      <td>0</td>\n",
              "      <td>0</td>\n",
              "      <td>0</td>\n",
              "      <td>0</td>\n",
              "      <td>1</td>\n",
              "      <td>0</td>\n",
              "      <td>0</td>\n",
              "      <td>0</td>\n",
              "      <td>0</td>\n",
              "      <td>0</td>\n",
              "      <td>0</td>\n",
              "    </tr>\n",
              "    <tr>\n",
              "      <th>3</th>\n",
              "      <td>2.998804</td>\n",
              "      <td>0</td>\n",
              "      <td>0</td>\n",
              "      <td>0.0</td>\n",
              "      <td>3.0</td>\n",
              "      <td>180.0</td>\n",
              "      <td>0.0</td>\n",
              "      <td>0.0</td>\n",
              "      <td>0</td>\n",
              "      <td>0</td>\n",
              "      <td>1</td>\n",
              "      <td>0</td>\n",
              "      <td>0</td>\n",
              "      <td>0</td>\n",
              "      <td>0</td>\n",
              "      <td>0</td>\n",
              "      <td>0</td>\n",
              "      <td>0</td>\n",
              "      <td>1</td>\n",
              "      <td>0</td>\n",
              "      <td>0</td>\n",
              "      <td>0</td>\n",
              "      <td>0</td>\n",
              "      <td>0</td>\n",
              "      <td>0</td>\n",
              "    </tr>\n",
              "    <tr>\n",
              "      <th>4</th>\n",
              "      <td>0.000000</td>\n",
              "      <td>0</td>\n",
              "      <td>0</td>\n",
              "      <td>0.0</td>\n",
              "      <td>1.0</td>\n",
              "      <td>60.0</td>\n",
              "      <td>0.0</td>\n",
              "      <td>0.0</td>\n",
              "      <td>0</td>\n",
              "      <td>0</td>\n",
              "      <td>1</td>\n",
              "      <td>0</td>\n",
              "      <td>0</td>\n",
              "      <td>0</td>\n",
              "      <td>0</td>\n",
              "      <td>0</td>\n",
              "      <td>0</td>\n",
              "      <td>0</td>\n",
              "      <td>1</td>\n",
              "      <td>0</td>\n",
              "      <td>0</td>\n",
              "      <td>0</td>\n",
              "      <td>0</td>\n",
              "      <td>0</td>\n",
              "      <td>0</td>\n",
              "    </tr>\n",
              "    <tr>\n",
              "      <th>...</th>\n",
              "      <td>...</td>\n",
              "      <td>...</td>\n",
              "      <td>...</td>\n",
              "      <td>...</td>\n",
              "      <td>...</td>\n",
              "      <td>...</td>\n",
              "      <td>...</td>\n",
              "      <td>...</td>\n",
              "      <td>...</td>\n",
              "      <td>...</td>\n",
              "      <td>...</td>\n",
              "      <td>...</td>\n",
              "      <td>...</td>\n",
              "      <td>...</td>\n",
              "      <td>...</td>\n",
              "      <td>...</td>\n",
              "      <td>...</td>\n",
              "      <td>...</td>\n",
              "      <td>...</td>\n",
              "      <td>...</td>\n",
              "      <td>...</td>\n",
              "      <td>...</td>\n",
              "      <td>...</td>\n",
              "      <td>...</td>\n",
              "      <td>...</td>\n",
              "    </tr>\n",
              "    <tr>\n",
              "      <th>1521502</th>\n",
              "      <td>0.000000</td>\n",
              "      <td>0</td>\n",
              "      <td>0</td>\n",
              "      <td>0.0</td>\n",
              "      <td>1.0</td>\n",
              "      <td>40.0</td>\n",
              "      <td>0.0</td>\n",
              "      <td>0.0</td>\n",
              "      <td>8</td>\n",
              "      <td>0</td>\n",
              "      <td>1</td>\n",
              "      <td>0</td>\n",
              "      <td>0</td>\n",
              "      <td>0</td>\n",
              "      <td>0</td>\n",
              "      <td>0</td>\n",
              "      <td>0</td>\n",
              "      <td>0</td>\n",
              "      <td>1</td>\n",
              "      <td>0</td>\n",
              "      <td>0</td>\n",
              "      <td>0</td>\n",
              "      <td>0</td>\n",
              "      <td>0</td>\n",
              "      <td>0</td>\n",
              "    </tr>\n",
              "    <tr>\n",
              "      <th>1521503</th>\n",
              "      <td>0.000000</td>\n",
              "      <td>0</td>\n",
              "      <td>0</td>\n",
              "      <td>0.0</td>\n",
              "      <td>1.0</td>\n",
              "      <td>40.0</td>\n",
              "      <td>0.0</td>\n",
              "      <td>0.0</td>\n",
              "      <td>8</td>\n",
              "      <td>0</td>\n",
              "      <td>1</td>\n",
              "      <td>0</td>\n",
              "      <td>0</td>\n",
              "      <td>0</td>\n",
              "      <td>0</td>\n",
              "      <td>0</td>\n",
              "      <td>0</td>\n",
              "      <td>0</td>\n",
              "      <td>1</td>\n",
              "      <td>0</td>\n",
              "      <td>0</td>\n",
              "      <td>0</td>\n",
              "      <td>0</td>\n",
              "      <td>0</td>\n",
              "      <td>0</td>\n",
              "    </tr>\n",
              "    <tr>\n",
              "      <th>1521504</th>\n",
              "      <td>0.000000</td>\n",
              "      <td>0</td>\n",
              "      <td>0</td>\n",
              "      <td>0.0</td>\n",
              "      <td>1.0</td>\n",
              "      <td>40.0</td>\n",
              "      <td>0.0</td>\n",
              "      <td>0.0</td>\n",
              "      <td>8</td>\n",
              "      <td>0</td>\n",
              "      <td>1</td>\n",
              "      <td>0</td>\n",
              "      <td>0</td>\n",
              "      <td>0</td>\n",
              "      <td>0</td>\n",
              "      <td>0</td>\n",
              "      <td>0</td>\n",
              "      <td>0</td>\n",
              "      <td>1</td>\n",
              "      <td>0</td>\n",
              "      <td>0</td>\n",
              "      <td>0</td>\n",
              "      <td>0</td>\n",
              "      <td>0</td>\n",
              "      <td>0</td>\n",
              "    </tr>\n",
              "    <tr>\n",
              "      <th>1521505</th>\n",
              "      <td>0.000000</td>\n",
              "      <td>0</td>\n",
              "      <td>0</td>\n",
              "      <td>0.0</td>\n",
              "      <td>1.0</td>\n",
              "      <td>40.0</td>\n",
              "      <td>0.0</td>\n",
              "      <td>0.0</td>\n",
              "      <td>8</td>\n",
              "      <td>0</td>\n",
              "      <td>1</td>\n",
              "      <td>0</td>\n",
              "      <td>0</td>\n",
              "      <td>0</td>\n",
              "      <td>0</td>\n",
              "      <td>0</td>\n",
              "      <td>0</td>\n",
              "      <td>0</td>\n",
              "      <td>1</td>\n",
              "      <td>0</td>\n",
              "      <td>0</td>\n",
              "      <td>0</td>\n",
              "      <td>0</td>\n",
              "      <td>0</td>\n",
              "      <td>0</td>\n",
              "    </tr>\n",
              "    <tr>\n",
              "      <th>1521506</th>\n",
              "      <td>0.000000</td>\n",
              "      <td>0</td>\n",
              "      <td>0</td>\n",
              "      <td>0.0</td>\n",
              "      <td>1.0</td>\n",
              "      <td>40.0</td>\n",
              "      <td>0.0</td>\n",
              "      <td>0.0</td>\n",
              "      <td>8</td>\n",
              "      <td>0</td>\n",
              "      <td>1</td>\n",
              "      <td>0</td>\n",
              "      <td>0</td>\n",
              "      <td>0</td>\n",
              "      <td>0</td>\n",
              "      <td>0</td>\n",
              "      <td>0</td>\n",
              "      <td>0</td>\n",
              "      <td>1</td>\n",
              "      <td>0</td>\n",
              "      <td>0</td>\n",
              "      <td>0</td>\n",
              "      <td>0</td>\n",
              "      <td>0</td>\n",
              "      <td>0</td>\n",
              "    </tr>\n",
              "  </tbody>\n",
              "</table>\n",
              "<p>1521507 rows × 25 columns</p>\n",
              "</div>"
            ],
            "text/plain": [
              "         duration  orig_bytes  ...  conn_state_SH  conn_state_SHR\n",
              "0        2.998796           0  ...              0               0\n",
              "1        0.000000           0  ...              0               0\n",
              "2        0.000000           0  ...              0               0\n",
              "3        2.998804           0  ...              0               0\n",
              "4        0.000000           0  ...              0               0\n",
              "...           ...         ...  ...            ...             ...\n",
              "1521502  0.000000           0  ...              0               0\n",
              "1521503  0.000000           0  ...              0               0\n",
              "1521504  0.000000           0  ...              0               0\n",
              "1521505  0.000000           0  ...              0               0\n",
              "1521506  0.000000           0  ...              0               0\n",
              "\n",
              "[1521507 rows x 25 columns]"
            ]
          },
          "metadata": {},
          "execution_count": 6
        }
      ],
      "source": [
        "df"
      ],
      "id": "powerful-socket"
    },
    {
      "cell_type": "code",
      "execution_count": null,
      "metadata": {
        "colab": {
          "base_uri": "https://localhost:8080/"
        },
        "id": "nearby-bermuda",
        "outputId": "36b8bed3-9ef9-4ce7-a2b6-977a862f27d6"
      },
      "outputs": [
        {
          "output_type": "execute_result",
          "data": {
            "text/plain": [
              "8    880860\n",
              "7    262690\n",
              "0    240842\n",
              "5    124362\n",
              "1      8437\n",
              "9      3915\n",
              "2       357\n",
              "4        30\n",
              "6        13\n",
              "3         1\n",
              "Name: label, dtype: int64"
            ]
          },
          "metadata": {},
          "execution_count": 7
        }
      ],
      "source": [
        "df['label'].value_counts()"
      ],
      "id": "nearby-bermuda"
    },
    {
      "cell_type": "code",
      "execution_count": null,
      "metadata": {
        "id": "uAgH24B8_AAh"
      },
      "outputs": [],
      "source": [
        "warnings.filterwarnings('ignore')"
      ],
      "id": "uAgH24B8_AAh"
    },
    {
      "cell_type": "code",
      "execution_count": null,
      "metadata": {
        "id": "furnished-arena"
      },
      "outputs": [],
      "source": [
        "X = df[['duration', 'orig_bytes', 'resp_bytes', 'missed_bytes', 'orig_pkts', 'orig_ip_bytes', 'resp_pkts', 'resp_ip_bytes', 'proto_icmp', 'proto_tcp', 'proto_udp', 'conn_state_OTH', 'conn_state_REJ', 'conn_state_RSTO', 'conn_state_RSTOS0', 'conn_state_RSTR', 'conn_state_RSTRH', 'conn_state_S0', 'conn_state_S1', 'conn_state_S2', 'conn_state_S3', 'conn_state_SF', 'conn_state_SH', 'conn_state_SHR']]\n",
        "Y = df['label']\n",
        "X_train, X_test, Y_train, Y_test = train_test_split(X, Y, random_state=10, test_size=0.2)"
      ],
      "id": "furnished-arena"
    },
    {
      "cell_type": "code",
      "execution_count": null,
      "metadata": {
        "id": "competent-stewart"
      },
      "outputs": [],
      "source": [
        "clf=RandomForestClassifier(n_estimators =100, random_state=10)"
      ],
      "id": "competent-stewart"
    },
    {
      "cell_type": "code",
      "execution_count": null,
      "metadata": {
        "id": "sensitive-plastic",
        "colab": {
          "base_uri": "https://localhost:8080/"
        },
        "outputId": "52c1a958-0384-4d1d-8e28-a36bcab9b0c1"
      },
      "outputs": [
        {
          "output_type": "stream",
          "name": "stdout",
          "text": [
            "program start...\n",
            "\n",
            "\n",
            "prediction:\n",
            "[5 8 8 ... 8 5 8]\n",
            "\n",
            "Score:\n",
            "0.7441554771246985\n",
            "program end...\n",
            "\n",
            "time cost: \n",
            "67.86615419387817 seconds\n"
          ]
        }
      ],
      "source": [
        "start = time.time()\n",
        "print('program start...')\n",
        "print()\n",
        "\n",
        "clf.fit(X_train,Y_train)\n",
        "print()\n",
        "\n",
        "print('prediction:')\n",
        "y_pred=clf.predict(X_test)\n",
        "print(y_pred)\n",
        "print()\n",
        "\n",
        "print('Score:')\n",
        "score = clf.score(X_test,Y_test)\n",
        "print(score)\n",
        "\n",
        "end = time.time()\n",
        "print('program end...')\n",
        "print()\n",
        "print('time cost: ')\n",
        "print(end - start, 'seconds')"
      ],
      "id": "sensitive-plastic"
    },
    {
      "cell_type": "code",
      "execution_count": null,
      "metadata": {
        "id": "indirect-immune",
        "colab": {
          "base_uri": "https://localhost:8080/"
        },
        "outputId": "77fa8340-a8b1-4707-a45b-e4d90a0ac9f1"
      },
      "outputs": [
        {
          "output_type": "stream",
          "name": "stdout",
          "text": [
            "Classifiction Report :\n",
            "              precision    recall  f1-score   support\n",
            "\n",
            "           0       0.98      0.62      0.76     48008\n",
            "           1       0.27      0.02      0.04      1779\n",
            "           2       0.94      0.38      0.54        76\n",
            "           3       0.00      0.00      0.00         0\n",
            "           4       1.00      0.12      0.22         8\n",
            "           5       1.00      0.80      0.89     25072\n",
            "           6       0.00      0.00      0.00         0\n",
            "           7       0.67      0.00      0.00     52611\n",
            "           8       0.69      1.00      0.82    175952\n",
            "           9       1.00      0.99      0.99       796\n",
            "\n",
            "    accuracy                           0.74    304302\n",
            "   macro avg       0.66      0.39      0.43    304302\n",
            "weighted avg       0.76      0.74      0.67    304302\n",
            "\n"
          ]
        }
      ],
      "source": [
        "print(\"Classifiction Report :\")\n",
        "print(classification_report(Y_test, y_pred))"
      ],
      "id": "indirect-immune"
    },
    {
      "cell_type": "code",
      "source": [
        "clf=RandomForestClassifier(n_estimators =200, random_state=10)"
      ],
      "metadata": {
        "id": "WnFt8et6f6n9"
      },
      "id": "WnFt8et6f6n9",
      "execution_count": null,
      "outputs": []
    },
    {
      "cell_type": "code",
      "source": [
        "start = time.time()\n",
        "print('program start...')\n",
        "print()\n",
        "\n",
        "clf.fit(X_train,Y_train)\n",
        "print()\n",
        "\n",
        "print('prediction:')\n",
        "y_pred=clf.predict(X_test)\n",
        "print(y_pred)\n",
        "print()\n",
        "\n",
        "print('Score:')\n",
        "score = clf.score(X_test,Y_test)\n",
        "print(score)\n",
        "\n",
        "end = time.time()\n",
        "print('program end...')\n",
        "print()\n",
        "print('time cost: ')\n",
        "print(end - start, 'seconds')"
      ],
      "metadata": {
        "colab": {
          "base_uri": "https://localhost:8080/"
        },
        "id": "No1g6Ztsf-DQ",
        "outputId": "a01720b6-21ef-46ed-dbf5-b30d0f15ceb0"
      },
      "id": "No1g6Ztsf-DQ",
      "execution_count": null,
      "outputs": [
        {
          "output_type": "stream",
          "name": "stdout",
          "text": [
            "program start...\n",
            "\n",
            "\n",
            "prediction:\n",
            "[5 8 8 ... 8 5 8]\n",
            "\n",
            "Score:\n",
            "0.7441817667974577\n",
            "program end...\n",
            "\n",
            "time cost: \n",
            "127.90515470504761 seconds\n"
          ]
        }
      ]
    },
    {
      "cell_type": "code",
      "source": [
        "print(\"Classifiction Report :\")\n",
        "print(classification_report(Y_test, y_pred))"
      ],
      "metadata": {
        "colab": {
          "base_uri": "https://localhost:8080/"
        },
        "id": "TzPmpJhJgB5-",
        "outputId": "3bbeafa2-1b16-4e64-f5fc-b714caf710ac"
      },
      "id": "TzPmpJhJgB5-",
      "execution_count": null,
      "outputs": [
        {
          "output_type": "stream",
          "name": "stdout",
          "text": [
            "Classifiction Report :\n",
            "              precision    recall  f1-score   support\n",
            "\n",
            "           0       0.98      0.62      0.76     48008\n",
            "           1       0.30      0.02      0.04      1779\n",
            "           2       0.94      0.38      0.54        76\n",
            "           3       0.00      0.00      0.00         0\n",
            "           4       1.00      0.12      0.22         8\n",
            "           5       1.00      0.80      0.89     25072\n",
            "           6       0.00      0.00      0.00         0\n",
            "           7       0.67      0.00      0.00     52611\n",
            "           8       0.69      1.00      0.82    175952\n",
            "           9       1.00      0.99      0.99       796\n",
            "\n",
            "    accuracy                           0.74    304302\n",
            "   macro avg       0.66      0.39      0.43    304302\n",
            "weighted avg       0.76      0.74      0.67    304302\n",
            "\n"
          ]
        }
      ]
    },
    {
      "cell_type": "code",
      "source": [
        "clf=RandomForestClassifier(n_estimators =100, random_state=10)"
      ],
      "metadata": {
        "id": "VUmtXWsxgKDI"
      },
      "id": "VUmtXWsxgKDI",
      "execution_count": null,
      "outputs": []
    },
    {
      "cell_type": "code",
      "execution_count": null,
      "metadata": {
        "id": "ouSkNGicveHG"
      },
      "outputs": [],
      "source": [
        "param_grid = { \n",
        "    'max_features': ['auto', 'sqrt', 'log2',0.2],\n",
        "    'max_depth' : [5,6,7,8],\n",
        "    'criterion' :['gini', 'entropy']\n",
        "}"
      ],
      "id": "ouSkNGicveHG"
    },
    {
      "cell_type": "code",
      "execution_count": null,
      "metadata": {
        "colab": {
          "base_uri": "https://localhost:8080/"
        },
        "id": "sRFgnpcZwjSK",
        "outputId": "82be0387-e964-442d-9ae4-56727e6190e0"
      },
      "outputs": [
        {
          "output_type": "execute_result",
          "data": {
            "text/plain": [
              "GridSearchCV(cv=5, estimator=RandomForestClassifier(random_state=10),\n",
              "             param_grid={'criterion': ['gini', 'entropy'],\n",
              "                         'max_depth': [5, 6, 7, 8],\n",
              "                         'max_features': ['auto', 'sqrt', 'log2', 0.2]})"
            ]
          },
          "metadata": {},
          "execution_count": 18
        }
      ],
      "source": [
        "CV_rfc = GridSearchCV(estimator=clf, param_grid=param_grid, cv= 5)\n",
        "CV_rfc.fit(X_train, Y_train)\n"
      ],
      "id": "sRFgnpcZwjSK"
    },
    {
      "cell_type": "code",
      "execution_count": null,
      "metadata": {
        "id": "YYZEe0XnxjX-",
        "colab": {
          "base_uri": "https://localhost:8080/"
        },
        "outputId": "7b828f68-5e0b-4693-d5bb-42fa3dfde115"
      },
      "outputs": [
        {
          "output_type": "execute_result",
          "data": {
            "text/plain": [
              "{'criterion': 'entropy', 'max_depth': 8, 'max_features': 'auto'}"
            ]
          },
          "metadata": {},
          "execution_count": 19
        }
      ],
      "source": [
        "CV_rfc.best_params_"
      ],
      "id": "YYZEe0XnxjX-"
    },
    {
      "cell_type": "code",
      "source": [
        "clf=RandomForestClassifier(n_estimators =100, random_state=10, criterion = 'entropy', max_depth = 8, max_features = 'auto')"
      ],
      "metadata": {
        "id": "lc5dpDV30gs7"
      },
      "id": "lc5dpDV30gs7",
      "execution_count": null,
      "outputs": []
    },
    {
      "cell_type": "code",
      "source": [
        "start = time.time()\n",
        "print('program start...')\n",
        "print()\n",
        "\n",
        "clf.fit(X_train,Y_train)\n",
        "print()\n",
        "\n",
        "print('prediction:')\n",
        "y_pred=clf.predict(X_test)\n",
        "print(y_pred)\n",
        "print()\n",
        "\n",
        "print('Score:')\n",
        "score = clf.score(X_test,Y_test)\n",
        "print(score)\n",
        "\n",
        "end = time.time()\n",
        "print('program end...')\n",
        "print()\n",
        "print('time cost: ')\n",
        "print(end - start, 'seconds')"
      ],
      "metadata": {
        "colab": {
          "base_uri": "https://localhost:8080/"
        },
        "id": "_4WI6IvT0kwJ",
        "outputId": "92120ca2-fb14-46da-b1e8-4484a9c1d313"
      },
      "id": "_4WI6IvT0kwJ",
      "execution_count": null,
      "outputs": [
        {
          "output_type": "stream",
          "name": "stdout",
          "text": [
            "program start...\n",
            "\n",
            "\n",
            "prediction:\n",
            "[5 8 8 ... 8 5 8]\n",
            "\n",
            "Score:\n",
            "0.7440634632700409\n",
            "program end...\n",
            "\n",
            "time cost: \n",
            "46.31339955329895 seconds\n"
          ]
        }
      ]
    },
    {
      "cell_type": "code",
      "source": [
        "print(\"Classifiction Report :\")\n",
        "print(classification_report(Y_test, y_pred))"
      ],
      "metadata": {
        "colab": {
          "base_uri": "https://localhost:8080/"
        },
        "id": "N_SMYs6z0suU",
        "outputId": "c1ed0fb4-00e0-46d2-91ef-51c606df6f76"
      },
      "id": "N_SMYs6z0suU",
      "execution_count": null,
      "outputs": [
        {
          "output_type": "stream",
          "name": "stdout",
          "text": [
            "Classifiction Report :\n",
            "              precision    recall  f1-score   support\n",
            "\n",
            "           0       0.98      0.62      0.76     48008\n",
            "           1       1.00      0.01      0.02      1779\n",
            "           2       0.92      0.16      0.27        76\n",
            "           4       1.00      0.12      0.22         8\n",
            "           5       1.00      0.80      0.89     25072\n",
            "           6       0.00      0.00      0.00         0\n",
            "           7       0.72      0.00      0.00     52611\n",
            "           8       0.69      1.00      0.82    175952\n",
            "           9       1.00      0.98      0.99       796\n",
            "\n",
            "    accuracy                           0.74    304302\n",
            "   macro avg       0.81      0.41      0.44    304302\n",
            "weighted avg       0.77      0.74      0.67    304302\n",
            "\n"
          ]
        }
      ]
    },
    {
      "cell_type": "code",
      "source": [
        ""
      ],
      "metadata": {
        "id": "dNmAYEc09Ril"
      },
      "id": "dNmAYEc09Ril",
      "execution_count": null,
      "outputs": []
    }
  ],
  "metadata": {
    "accelerator": "GPU",
    "colab": {
      "name": "Random_Forest-IoT23.ipynb",
      "provenance": []
    },
    "kernelspec": {
      "display_name": "Python 3",
      "language": "python",
      "name": "python3"
    },
    "language_info": {
      "codemirror_mode": {
        "name": "ipython",
        "version": 3
      },
      "file_extension": ".py",
      "mimetype": "text/x-python",
      "name": "python",
      "nbconvert_exporter": "python",
      "pygments_lexer": "ipython3",
      "version": "3.8.5"
    }
  },
  "nbformat": 4,
  "nbformat_minor": 5
}